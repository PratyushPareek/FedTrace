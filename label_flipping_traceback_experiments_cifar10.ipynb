{
  "metadata": {
    "kernelspec": {
      "language": "python",
      "display_name": "Python 3",
      "name": "python3"
    },
    "language_info": {
      "name": "python",
      "version": "3.7.12",
      "mimetype": "text/x-python",
      "codemirror_mode": {
        "name": "ipython",
        "version": 3
      },
      "pygments_lexer": "ipython3",
      "nbconvert_exporter": "python",
      "file_extension": ".py"
    },
    "colab": {
      "provenance": []
    }
  },
  "nbformat_minor": 0,
  "nbformat": 4,
  "cells": [
    {
      "cell_type": "code",
      "source": [
        "#EXPERIMENT PARAMETERS\n",
        "\n",
        "NO_CLIENTS = 10 #5, 10, 25\n",
        "POISON_CLIENTS = [4,6] #Random (1,2),(1,3),(1,4)\n",
        "POISON_RATIO = [1,1]\n",
        "NO_ROUNDS = 7\n",
        "EPOCHS_PER_ROUND = 5\n",
        "\n",
        "#HYPERPARAMETERS\n",
        "\n",
        "STANDARDIZE = True\n",
        "CLUSTERING_ALGO = \"GMM\"  #GMM, KMEANS\n",
        "MAYBE_POISON_ACC_RATIO = 0.8\n",
        "IS_POISON_ACC_RATIO = 0.6"
      ],
      "metadata": {
        "_uuid": "8f2839f25d086af736a60e9eeb907d3b93b6e0e5",
        "_cell_guid": "b1076dfc-b9ad-4769-8c92-a6c4dae69d19",
        "execution": {
          "iopub.status.busy": "2023-04-24T18:41:40.663525Z",
          "iopub.execute_input": "2023-04-24T18:41:40.664009Z",
          "iopub.status.idle": "2023-04-24T18:41:40.706544Z",
          "shell.execute_reply.started": "2023-04-24T18:41:40.663963Z",
          "shell.execute_reply": "2023-04-24T18:41:40.705362Z"
        },
        "trusted": true,
        "id": "xX_4BFLHqiaF"
      },
      "execution_count": null,
      "outputs": []
    },
    {
      "cell_type": "code",
      "source": [
        "#IMPORTS\n",
        "\n",
        "import numpy as np\n",
        "import pandas as pd\n",
        "import matplotlib.pyplot as plt\n",
        "import cv2\n",
        "import keras\n",
        "from keras.datasets import cifar10\n",
        "from sklearn.preprocessing import OneHotEncoder,StandardScaler\n",
        "from keras.layers import Conv2D, MaxPool2D, Flatten, Dense, Dropout, Activation\n",
        "from keras.models import Sequential, load_model\n",
        "from keras.callbacks import EarlyStopping\n",
        "from sklearn.utils import shuffle\n",
        "import tensorflow as tf\n",
        "from sklearn.metrics import accuracy_score\n",
        "from tensorflow.keras import backend as K\n",
        "import os\n",
        "from os import listdir\n",
        "from PIL import Image\n",
        "import pickle\n",
        "from sklearn.cluster import KMeans, DBSCAN\n",
        "from sklearn.mixture import GaussianMixture\n",
        "from keras.optimizers import SGD\n",
        "import torch\n",
        "from torch.utils.data import Dataset, DataLoader, TensorDataset\n",
        "from sklearn.decomposition import PCA\n",
        "from sklearn.datasets import make_classification\n",
        "from sklearn.preprocessing import StandardScaler"
      ],
      "metadata": {
        "execution": {
          "iopub.status.busy": "2023-04-24T18:41:40.733108Z",
          "iopub.execute_input": "2023-04-24T18:41:40.734235Z",
          "iopub.status.idle": "2023-04-24T18:41:52.546576Z",
          "shell.execute_reply.started": "2023-04-24T18:41:40.734187Z",
          "shell.execute_reply": "2023-04-24T18:41:52.545503Z"
        },
        "trusted": true,
        "id": "YuTKuu2IqiaH"
      },
      "execution_count": null,
      "outputs": []
    },
    {
      "cell_type": "code",
      "source": [
        "#LOAD CIFAR10\n",
        "\n",
        "(x_train, y_train), (x_test, y_test) = cifar10.load_data()\n",
        "\n",
        "print(np.shape(x_train))\n",
        "print(np.shape(y_train))\n",
        "print(np.shape(x_test))\n",
        "print(np.shape(y_test))\n",
        "\n",
        "labels = ['airplane', 'automobile', 'bird', 'cat', 'deer', 'dog', 'frog', 'horse', 'ship', 'truck']\n",
        "NO_CLASSES = 10\n",
        "\n",
        "#INPUT PREPROCESSING\n",
        "\n",
        "x_train = np.array([cv2.cvtColor(image, cv2.COLOR_BGR2GRAY) for image in x_train])\n",
        "x_test = np.array([cv2.cvtColor(image, cv2.COLOR_BGR2GRAY) for image in x_test])\n",
        "\n",
        "x_train  = x_train/255\n",
        "x_test  = x_test/255\n",
        "\n",
        "x_train = x_train.reshape(x_train.shape[0], x_train.shape[1], x_train.shape[2], 1)\n",
        "x_test = x_test.reshape(x_test.shape[0], x_test.shape[1], x_test.shape[2], 1)\n",
        "\n",
        "input_shape = (x_train.shape[1], x_train.shape[2], 1)\n",
        "\n",
        "print(np.shape(x_train))\n",
        "print(np.shape(x_test))\n",
        "\n",
        "# LABEL PREPROCESSING\n",
        "\n",
        "one_hot_encoder = OneHotEncoder(sparse=False)\n",
        "one_hot_encoder.fit(y_train)\n",
        "\n",
        "y_train = one_hot_encoder.transform(y_train)\n",
        "y_test = one_hot_encoder.transform(y_test)\n",
        "\n",
        "print(np.shape(y_train))\n",
        "print(np.shape(y_test))"
      ],
      "metadata": {
        "execution": {
          "iopub.status.busy": "2023-04-24T18:41:52.548728Z",
          "iopub.execute_input": "2023-04-24T18:41:52.549366Z",
          "iopub.status.idle": "2023-04-24T18:42:00.757014Z",
          "shell.execute_reply.started": "2023-04-24T18:41:52.549327Z",
          "shell.execute_reply": "2023-04-24T18:42:00.755779Z"
        },
        "trusted": true,
        "id": "JAqRmuWsqiaH",
        "outputId": "1124d86c-6bbb-431c-8678-7c1b20906880"
      },
      "execution_count": null,
      "outputs": [
        {
          "name": "stdout",
          "text": "Downloading data from https://www.cs.toronto.edu/~kriz/cifar-10-python.tar.gz\n170498071/170498071 [==============================] - 3s 0us/step\n(50000, 32, 32, 3)\n(50000, 1)\n(10000, 32, 32, 3)\n(10000, 1)\n(50000, 32, 32, 1)\n(10000, 32, 32, 1)\n(50000, 10)\n(10000, 10)\n",
          "output_type": "stream"
        }
      ]
    },
    {
      "cell_type": "code",
      "source": [
        "# MODEL\n",
        "\n",
        "class CNNModel:\n",
        "    @staticmethod\n",
        "    def build(input_shape, no_classes):\n",
        "\n",
        "        model = Sequential()\n",
        "\n",
        "        model.add(Conv2D(16, (3, 3), activation='relu', strides=(1, 1), padding='same', input_shape=input_shape))\n",
        "        model.add(Conv2D(32, (3, 3), activation='relu', strides=(1, 1), padding='same'))\n",
        "        model.add(Conv2D(64, (3, 3), activation='relu', strides=(1, 1), padding='same'))\n",
        "        model.add(MaxPool2D((2, 2)))\n",
        "\n",
        "        model.add(Conv2D(16, (3, 3), activation='relu', strides=(1, 1), padding='same'))\n",
        "        model.add(Conv2D(32, (3, 3), activation='relu', strides=(1, 1), padding='same'))\n",
        "        model.add(Conv2D(64, (3, 3), activation='relu', strides=(1, 1), padding='same'))\n",
        "        model.add(MaxPool2D((2, 2)))\n",
        "\n",
        "        model.add(Flatten())\n",
        "\n",
        "        model.add(Dense(256, activation='relu'))\n",
        "        model.add(Dropout(0.5))\n",
        "\n",
        "        model.add(Dense(128, activation='relu'))\n",
        "        model.add(Dense(64, activation='relu'))\n",
        "        model.add(Dense(64, activation='relu'))\n",
        "        model.add(Dense(no_classes, activation='softmax'))\n",
        "\n",
        "        return model\n",
        ""
      ],
      "metadata": {
        "execution": {
          "iopub.status.busy": "2023-04-24T18:42:00.758646Z",
          "iopub.execute_input": "2023-04-24T18:42:00.759121Z",
          "iopub.status.idle": "2023-04-24T18:42:00.771029Z",
          "shell.execute_reply.started": "2023-04-24T18:42:00.759080Z",
          "shell.execute_reply": "2023-04-24T18:42:00.769561Z"
        },
        "trusted": true,
        "id": "gBGqM5BBqiaI"
      },
      "execution_count": null,
      "outputs": []
    },
    {
      "cell_type": "code",
      "source": [
        "#AVERAGE MODELS\n",
        "\n",
        "def average_models(models):\n",
        "    \"\"\"\n",
        "    Takes an array of identically structured keras sequential models,\n",
        "    iterates layer by layer and takes weights of all layers to generate\n",
        "    a new model with identical structure whose weights are the average\n",
        "    of all the input models.\n",
        "\n",
        "    Args:\n",
        "        models: An array of keras sequential models with identical structure.\n",
        "\n",
        "    Returns:\n",
        "        A new keras sequential model with identical structure whose weights\n",
        "        are the average of all the input models.\n",
        "    \"\"\"\n",
        "    # Get the number of models and the number of layers in each model.\n",
        "    num_models = len(models)\n",
        "    num_layers = len(models[0].layers)\n",
        "\n",
        "    # Initialize an array to hold the weights of each layer of each model.\n",
        "    all_weights = np.zeros((num_models, num_layers), dtype=object)\n",
        "\n",
        "    # Iterate over all layers of all models and collect their weights.\n",
        "    for layer_idx in range(num_layers):\n",
        "        layer_weights = []\n",
        "        for model_idx in range(num_models):\n",
        "            model = models[model_idx]\n",
        "            layer = model.layers[layer_idx]\n",
        "            layer_weights.append(layer.get_weights())\n",
        "        all_weights[:, layer_idx] = layer_weights\n",
        "\n",
        "    # Compute the average of all the weights for each layer.\n",
        "    avg_weights = []\n",
        "    for layer_idx in range(num_layers):\n",
        "        layer_weights = all_weights[:, layer_idx]\n",
        "        avg_layer_weights = [np.zeros_like(w) for w in layer_weights[0]]\n",
        "        for w in layer_weights:\n",
        "            for i in range(len(w)):\n",
        "                avg_layer_weights[i] += w[i] / num_models\n",
        "        avg_weights.append(avg_layer_weights)\n",
        "\n",
        "    # Create a new model with the same structure as the input models.\n",
        "    new_model = tf.keras.models.clone_model(models[0])\n",
        "\n",
        "    # Set the weights of the new model to the computed averages.\n",
        "    for layer_idx in range(num_layers):\n",
        "        new_model.layers[layer_idx].set_weights(avg_weights[layer_idx])\n",
        "\n",
        "    return new_model\n"
      ],
      "metadata": {
        "execution": {
          "iopub.status.busy": "2023-04-24T18:42:00.772727Z",
          "iopub.execute_input": "2023-04-24T18:42:00.773135Z",
          "iopub.status.idle": "2023-04-24T18:42:00.786850Z",
          "shell.execute_reply.started": "2023-04-24T18:42:00.773088Z",
          "shell.execute_reply": "2023-04-24T18:42:00.785766Z"
        },
        "trusted": true,
        "id": "1fNbDy8xqiaI"
      },
      "execution_count": null,
      "outputs": []
    },
    {
      "cell_type": "code",
      "source": [
        "#SHUFFLE THE DATA RANDOMLY\n",
        "\n",
        "data = list(zip(x_train, y_train))\n",
        "shuffle(data)\n",
        "client_data = np.array_split(data, NO_CLIENTS)\n",
        "print(np.shape(client_data))\n",
        "print(np.shape(client_data[0][0][0]))\n",
        "print(np.shape(client_data[0][0][1]))\n",
        "\n",
        "cx_train, cy_train = [],[]\n",
        "for (i,data) in enumerate(client_data):\n",
        "    tx,ty = [],[]\n",
        "    for datapoint in data:\n",
        "        tx.append(datapoint[0])\n",
        "        ty.append(datapoint[1])\n",
        "    cx_train.append(tx)\n",
        "    cy_train.append(ty)\n",
        "\n",
        "print(np.shape(cx_train))\n",
        "print(np.shape(cy_train))"
      ],
      "metadata": {
        "execution": {
          "iopub.status.busy": "2023-04-24T18:42:00.790853Z",
          "iopub.execute_input": "2023-04-24T18:42:00.791268Z",
          "iopub.status.idle": "2023-04-24T18:42:01.067025Z",
          "shell.execute_reply.started": "2023-04-24T18:42:00.791221Z",
          "shell.execute_reply": "2023-04-24T18:42:01.065958Z"
        },
        "trusted": true,
        "id": "MW2jnxBFqiaI",
        "outputId": "a6e32de2-f951-4191-a17d-e3a171fbdd2a"
      },
      "execution_count": null,
      "outputs": [
        {
          "name": "stdout",
          "text": "(10, 5000, 2)\n(32, 32, 1)\n(10,)\n(10, 5000, 32, 32, 1)\n(10, 5000, 10)\n",
          "output_type": "stream"
        },
        {
          "name": "stderr",
          "text": "/opt/conda/lib/python3.7/site-packages/numpy/core/fromnumeric.py:43: VisibleDeprecationWarning: Creating an ndarray from ragged nested sequences (which is a list-or-tuple of lists-or-tuples-or ndarrays with different lengths or shapes) is deprecated. If you meant to do this, you must specify 'dtype=object' when creating the ndarray.\n  result = getattr(asarray(obj), method)(*args, **kwds)\n",
          "output_type": "stream"
        }
      ]
    },
    {
      "cell_type": "code",
      "source": [
        "#POISON THE DATA\n",
        "\n",
        "for c,client in enumerate(POISON_CLIENTS):\n",
        "    for i in range(int(len(cy_train[client])*POISON_RATIO[c])):\n",
        "        logits = cy_train[client][i]\n",
        "        poisonClass = np.random.randint(len(logits))\n",
        "        poisonLogits = np.zeros(len(logits))\n",
        "        poisonLogits[poisonClass] = 1\n",
        "        cy_train[client][i] = poisonLogits"
      ],
      "metadata": {
        "execution": {
          "iopub.status.busy": "2023-04-24T18:42:01.068571Z",
          "iopub.execute_input": "2023-04-24T18:42:01.070570Z",
          "iopub.status.idle": "2023-04-24T18:42:01.119061Z",
          "shell.execute_reply.started": "2023-04-24T18:42:01.070528Z",
          "shell.execute_reply": "2023-04-24T18:42:01.118112Z"
        },
        "trusted": true,
        "id": "ye467zK4qiaJ"
      },
      "execution_count": null,
      "outputs": []
    },
    {
      "cell_type": "code",
      "source": [
        "#FEDERATED TRAINING\n",
        "\n",
        "def train_on_client(i,global_weights,ep=EPOCHS_PER_ROUND):\n",
        "    local_model = CNNModel().build(input_shape,NO_CLASSES)\n",
        "    local_model.compile(loss='categorical_crossentropy', optimizer='adam',metrics=['accuracy'])\n",
        "    local_model.set_weights(global_weights)\n",
        "\n",
        "    local_model.fit(np.array(cx_train[i]), np.array(cy_train[i]), epochs=ep, verbose=0)\n",
        "\n",
        "    pred = local_model.predict(x_test, verbose = 0)\n",
        "    acc = K.mean(K.equal(K.argmax(pred, axis=-1), K.argmax(y_test, axis=-1)))\n",
        "    print(float(acc))\n",
        "\n",
        "    return local_model\n",
        "\n",
        "\n",
        "global_model = CNNModel().build(input_shape,NO_CLASSES)\n",
        "global_model.compile(loss='categorical_crossentropy', optimizer='adam',metrics=['accuracy'])\n",
        "finalRoundModels = []\n",
        "final_acc = 0\n",
        "\n",
        "for round in range(NO_ROUNDS):\n",
        "    global_weights = global_model.get_weights()\n",
        "    models = []\n",
        "\n",
        "    for client in range(NO_CLIENTS):\n",
        "        print('Round {} - Client {}'.format(round,client))\n",
        "        client_model = train_on_client(client,global_weights)\n",
        "        models.append(client_model)\n",
        "\n",
        "    finalRoundModels = models\n",
        "    global_model = average_models(models)\n",
        "\n",
        "    pred = global_model.predict(x_test)\n",
        "    acc = K.mean(K.equal(K.argmax(pred, axis=-1), K.argmax(y_test, axis=-1)))\n",
        "\n",
        "    print(\"Round {}: {}% Accuracy\".format(round,acc*100))\n",
        "    final_acc = float(acc)"
      ],
      "metadata": {
        "execution": {
          "iopub.status.busy": "2023-04-24T18:42:01.121220Z",
          "iopub.execute_input": "2023-04-24T18:42:01.121958Z",
          "iopub.status.idle": "2023-04-24T18:55:35.915473Z",
          "shell.execute_reply.started": "2023-04-24T18:42:01.121919Z",
          "shell.execute_reply": "2023-04-24T18:55:35.914412Z"
        },
        "trusted": true,
        "id": "IzRqnlNDqiaJ",
        "outputId": "4b6991b9-af74-44b7-8486-12249063ae92"
      },
      "execution_count": null,
      "outputs": [
        {
          "name": "stdout",
          "text": "Round 0 - Client 0\n0.10000000149011612\nRound 0 - Client 1\n0.39500001072883606\nRound 0 - Client 2\n0.3458999991416931\nRound 0 - Client 3\n0.412200003862381\nRound 0 - Client 4\n0.10000000149011612\nRound 0 - Client 5\n0.4262000024318695\nRound 0 - Client 6\n0.10000000149011612\nRound 0 - Client 7\n0.4041999876499176\nRound 0 - Client 8\n0.3393000066280365\nRound 0 - Client 9\n0.4239000082015991\n313/313 [==============================] - 1s 2ms/step\nRound 0: 10.0% Accuracy\nRound 1 - Client 0\n0.4343999922275543\nRound 1 - Client 1\n0.4320000112056732\nRound 1 - Client 2\n0.44830000400543213\nRound 1 - Client 3\n0.4334999918937683\nRound 1 - Client 4\n0.10000000149011612\nRound 1 - Client 5\n0.4426000118255615\nRound 1 - Client 6\n0.10000000149011612\nRound 1 - Client 7\n0.4205999970436096\nRound 1 - Client 8\n0.383899986743927\nRound 1 - Client 9\n0.4194999933242798\n313/313 [==============================] - 1s 2ms/step\nRound 1: 12.269999504089355% Accuracy\nRound 2 - Client 0\n0.49459999799728394\nRound 2 - Client 1\n0.5012999773025513\nRound 2 - Client 2\n0.4830999970436096\nRound 2 - Client 3\n0.48840001225471497\nRound 2 - Client 4\n0.10000000149011612\nRound 2 - Client 5\n0.48179998993873596\nRound 2 - Client 6\n0.10000000149011612\nRound 2 - Client 7\n0.4966000020503998\nRound 2 - Client 8\n0.4903999865055084\nRound 2 - Client 9\n0.49559998512268066\n313/313 [==============================] - 1s 2ms/step\nRound 2: 34.07999801635742% Accuracy\nRound 3 - Client 0\n0.5230000019073486\nRound 3 - Client 1\n0.5260000228881836\nRound 3 - Client 2\n0.5371000170707703\nRound 3 - Client 3\n0.5285999774932861\nRound 3 - Client 4\n0.11110000312328339\nRound 3 - Client 5\n0.5403000116348267\nRound 3 - Client 6\n0.12120000272989273\nRound 3 - Client 7\n0.5286999940872192\nRound 3 - Client 8\n0.5332000255584717\nRound 3 - Client 9\n0.5182999968528748\n313/313 [==============================] - 1s 2ms/step\nRound 3: 49.45000076293945% Accuracy\nRound 4 - Client 0\n0.5598000288009644\nRound 4 - Client 1\n0.5566999912261963\nRound 4 - Client 2\n0.5583999752998352\nRound 4 - Client 3\n0.5580000281333923\nRound 4 - Client 4\n0.1462000012397766\nRound 4 - Client 5\n0.5674999952316284\nRound 4 - Client 6\n0.15060000121593475\nRound 4 - Client 7\n0.5572999715805054\nRound 4 - Client 8\n0.5625\nRound 4 - Client 9\n0.5612000226974487\n313/313 [==============================] - 1s 2ms/step\nRound 4: 55.970001220703125% Accuracy\nRound 5 - Client 0\n0.5641000270843506\nRound 5 - Client 1\n0.5672000050544739\nRound 5 - Client 2\n0.5685999989509583\nRound 5 - Client 3\n0.5655999779701233\nRound 5 - Client 4\n0.13019999861717224\nRound 5 - Client 5\n0.5746999979019165\nRound 5 - Client 6\n0.14429999887943268\nRound 5 - Client 7\n0.58160001039505\nRound 5 - Client 8\n0.5724999904632568\nRound 5 - Client 9\n0.5787000060081482\n313/313 [==============================] - 1s 2ms/step\nRound 5: 56.290000915527344% Accuracy\nRound 6 - Client 0\n0.5785999894142151\nRound 6 - Client 1\n0.5898000001907349\nRound 6 - Client 2\n0.5882999897003174\nRound 6 - Client 3\n0.5889999866485596\nRound 6 - Client 4\n0.13860000669956207\nRound 6 - Client 5\n0.5864999890327454\nRound 6 - Client 6\n0.14730000495910645\nRound 6 - Client 7\n0.5924000144004822\nRound 6 - Client 8\n0.5715000033378601\nRound 6 - Client 9\n0.5925999879837036\n313/313 [==============================] - 1s 2ms/step\nRound 6: 58.679996490478516% Accuracy\n",
          "output_type": "stream"
        }
      ]
    },
    {
      "cell_type": "code",
      "source": [
        "#VISUALIZE MODEL WEIGHT CLUSTERS\n",
        "\n",
        "def flatten_model(model):\n",
        "    flattened_weights = np.array([])\n",
        "    for layer in model.layers:\n",
        "        weights = layer.get_weights()\n",
        "        if weights:\n",
        "            for i in range(len(weights)):\n",
        "                flattened_weights = np.concatenate((flattened_weights, np.ravel(weights[i])))\n",
        "    return flattened_weights\n",
        "\n",
        "def last_round_weights(models):\n",
        "    last_round = []\n",
        "    for client_model in models:\n",
        "        last_round.append(flatten_model(client_model))\n",
        "    return last_round\n",
        "\n",
        "flattened = last_round_weights(finalRoundModels)\n",
        "X_scaled = StandardScaler().fit_transform(flattened)\n",
        "pca = PCA(n_components=2)\n",
        "X_pca = pca.fit_transform(X_scaled)\n",
        "colors = ['red' if i in POISON_CLIENTS else 'blue' for i in range(len(X_pca))]\n",
        "plt.scatter(X_pca[:, 0], X_pca[:, 1], c=colors, cmap='viridis')\n",
        "for i, (x, y) in enumerate(X_pca):\n",
        "    plt.annotate(i, (x, y), fontsize=16, ha='center', va='center')\n",
        "plt.xlabel('First Principal Component')\n",
        "plt.ylabel('Second Principal Component')\n",
        "plt.show()\n",
        "\n"
      ],
      "metadata": {
        "execution": {
          "iopub.status.busy": "2023-04-24T18:55:35.917064Z",
          "iopub.execute_input": "2023-04-24T18:55:35.917984Z",
          "iopub.status.idle": "2023-04-24T18:55:38.853803Z",
          "shell.execute_reply.started": "2023-04-24T18:55:35.917943Z",
          "shell.execute_reply": "2023-04-24T18:55:38.852667Z"
        },
        "trusted": true,
        "id": "Hnm1CCTlqiaJ",
        "outputId": "d8070843-7775-404e-f225-a0e9da3affb8"
      },
      "execution_count": null,
      "outputs": [
        {
          "output_type": "display_data",
          "data": {
            "text/plain": "<Figure size 640x480 with 1 Axes>",
            "image/png": "[encoded data removed]"
          },
          "metadata": {}
        }
      ]
    },
    {
      "cell_type": "code",
      "source": [
        "clusteringTool = KMeans(n_clusters=2)\n",
        "if(CLUSTERING_ALGO==\"GMM\"):\n",
        "    clusteringTool = GaussianMixture(2)"
      ],
      "metadata": {
        "execution": {
          "iopub.status.busy": "2023-04-24T18:55:38.855622Z",
          "iopub.execute_input": "2023-04-24T18:55:38.856272Z",
          "iopub.status.idle": "2023-04-24T18:55:38.865516Z",
          "shell.execute_reply.started": "2023-04-24T18:55:38.856233Z",
          "shell.execute_reply": "2023-04-24T18:55:38.864194Z"
        },
        "trusted": true,
        "id": "4uaNLCqRqiaK"
      },
      "execution_count": null,
      "outputs": []
    },
    {
      "cell_type": "code",
      "source": [
        "def traceback(finalRoundModels):\n",
        "\n",
        "    def trial(cluster):\n",
        "\n",
        "        if(len(cluster)<1):\n",
        "            return False\n",
        "\n",
        "        temp_model = CNNModel().build(input_shape,10)\n",
        "        temp_model.compile(loss='categorical_crossentropy', optimizer='adam',metrics=['accuracy'])\n",
        "\n",
        "        models = []\n",
        "        for client in cluster:\n",
        "            temp_model.set_weights(finalRoundModels[client].get_weights())\n",
        "            models.append(temp_model)\n",
        "        temp_model = average_models(models)\n",
        "\n",
        "        pred = temp_model.predict(x_test,verbose=0)\n",
        "        acc = K.mean(K.equal(K.argmax(pred, axis=-1), K.argmax(y_test, axis=-1)))\n",
        "\n",
        "        return float(acc)\n",
        "\n",
        "    def recursively_cluster(cluster):\n",
        "\n",
        "        print(cluster)\n",
        "\n",
        "        if len(cluster) <= 1:\n",
        "            return cluster\n",
        "\n",
        "        flattened = np.array([last_round[c] for c in cluster])\n",
        "        print(np.shape(flattened))\n",
        "\n",
        "        if(STANDARDIZE):\n",
        "            flattened = StandardScaler().fit_transform(flattened)\n",
        "        clustering = clusteringTool.fit(flattened)\n",
        "        print(clustering.labels_)\n",
        "\n",
        "        clusterA = [cluster[i] for i in range(len(cluster)) if clustering.labels_[i]==0]\n",
        "        clusterB = [cluster[i] for i in range(len(cluster)) if clustering.labels_[i]==1 or clustering.labels_[i]==-1]\n",
        "        print(clusterA,clusterB)\n",
        "\n",
        "        contains_attack_A, contains_attack_B = False,False\n",
        "\n",
        "        trialAcc_A = trial(clusterA)\n",
        "        trialAcc_B = trial(clusterB)\n",
        "        print(trialAcc_A, trialAcc_B)\n",
        "        faa, fab =final_acc, final_acc\n",
        "\n",
        "        if(trialAcc_A>final_acc):\n",
        "            print(\"Cluster A doesn't contain an attacker\")\n",
        "            contains_attack_A = False\n",
        "            contains_attack_B = True\n",
        "\n",
        "        if(trialAcc_B>final_acc):\n",
        "            print(\"Cluster B doesn't contain an attacker\")\n",
        "            contains_attack_A = True\n",
        "            contains_attack_B = False\n",
        "\n",
        "        if(trialAcc_A<=final_acc and trialAcc_B<=final_acc):\n",
        "\n",
        "            if len(clusterA) <= MAYBE_POISON_ACC_RATIO*NO_CLIENTS:\n",
        "                faa = final_acc * (0.9 + (len(clusterA))/(10*NO_CLIENTS))\n",
        "            if len(clusterB) <= MAYBE_POISON_ACC_RATIO*NO_CLIENTS:\n",
        "                fab = final_acc * (0.9 + (len(clusterA))/(10*NO_CLIENTS))\n",
        "\n",
        "            contains_attack_A = trialAcc_A <= faa\n",
        "            contains_attack_B = trialAcc_B <= fab\n",
        "\n",
        "        print(contains_attack_A,contains_attack_B)\n",
        "\n",
        "        if contains_attack_A and contains_attack_B:\n",
        "            print(\"Both clusters contain attackers\")\n",
        "\n",
        "            contains_attack_A = trialAcc_A <= faa*IS_POISON_ACC_RATIO\n",
        "            contains_attack_B = trialAcc_B <= fab*IS_POISON_ACC_RATIO\n",
        "            print(contains_attack_A,contains_attack_B)\n",
        "\n",
        "            if contains_attack_A and contains_attack_B:\n",
        "                return np.concatenate((np.array(clusterA),np.array(clusterB)))\n",
        "            elif contains_attack_A:\n",
        "                return np.concatenate((np.array(clusterA),np.array(recursively_cluster(clusterB))))\n",
        "            elif contains_attack_B:\n",
        "                return np.concatenate((np.array(clusterB),np.array(recursively_cluster(clusterA))))\n",
        "\n",
        "        elif contains_attack_A:\n",
        "            return recursively_cluster(clusterA)\n",
        "        elif contains_attack_B:\n",
        "            return recursively_cluster(clusterB)\n",
        "        else:\n",
        "            return []\n",
        "\n",
        "    last_round = last_round_weights(finalRoundModels)\n",
        "    print(np.shape(last_round))\n",
        "    return recursively_cluster(np.arange(NO_CLIENTS))\n"
      ],
      "metadata": {
        "execution": {
          "iopub.status.busy": "2023-04-24T18:55:38.867495Z",
          "iopub.execute_input": "2023-04-24T18:55:38.868116Z",
          "iopub.status.idle": "2023-04-24T18:55:38.905277Z",
          "shell.execute_reply.started": "2023-04-24T18:55:38.868075Z",
          "shell.execute_reply": "2023-04-24T18:55:38.904143Z"
        },
        "trusted": true,
        "id": "FLsHBn-cqiaK"
      },
      "execution_count": null,
      "outputs": []
    },
    {
      "cell_type": "code",
      "source": [
        "traceback(finalRoundModels)"
      ],
      "metadata": {
        "execution": {
          "iopub.status.busy": "2023-04-24T18:55:38.912548Z",
          "iopub.execute_input": "2023-04-24T18:55:38.915873Z"
        },
        "trusted": true,
        "id": "qHI93rqtqiaK",
        "outputId": "9fa7ec25-87a1-4f57-af90-1da138b41a7e"
      },
      "execution_count": null,
      "outputs": [
        {
          "name": "stdout",
          "text": "(10, 1150458)\n[0 1 2 3 4 5 6 7 8 9]\n(10, 1150458)\n",
          "output_type": "stream"
        }
      ]
    }
  ]
}